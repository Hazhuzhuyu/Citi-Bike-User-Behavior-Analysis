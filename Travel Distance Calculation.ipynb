{
 "cells": [
  {
   "cell_type": "markdown",
   "metadata": {},
   "source": [
    "## Travel Distance Calculation with Json"
   ]
  },
  {
   "cell_type": "code",
   "execution_count": null,
   "metadata": {},
   "outputs": [],
   "source": [
    "import pandas as pd\n",
    "import numpy as np\n",
    "# Import Station Information\n",
    "station_2019 = pd.read_csv('C:/Users/24707/Desktop/Bike/distance/station2019.csv', delimiter=',')\n",
    "station_2019 = station_2019['station name'].to_list()\n",
    "station_2020 = pd.read_csv('C:/Users/24707/Desktop/Bike/distance/station2020.csv', delimiter=',')\n",
    "station_2020 = station_2020['station name'].to_list()\n",
    "station_2021 = pd.read_csv('C:/Users/24707/Desktop/Bike/distance/station2021.csv', delimiter=',')\n",
    "station_2021 = station_2021['station name'].to_list()\n",
    "months = ['01','02','03','04','05','06','07','08','09','10','11','12']\n"
   ]
  },
  {
   "cell_type": "code",
   "execution_count": null,
   "metadata": {},
   "outputs": [],
   "source": [
    "# 2019\n",
    "frame = []\n",
    "for month in months:\n",
    "    df =  pd.read_csv(\"./2019/2019\"+month+\"-citibike-tripdata.csv\", delimiter=',')\n",
    "    df = df[['tripduration','starttime','start station name','end station name','usertype',\"start station latitude\",\"start station longitude\",\"end station latitude\",\"end station longitude\"]]\n",
    "    df = df[(df['start station name'].isin(station_2019))&(df['end station name'].isin(station_2019))]\n",
    "    #df = df.drop_duplicates(subset=[\"start station latitude\",\"start station longitude\",\"end station latitude\",\"end station longitude\"])\n",
    "    df = df.drop(labels=['start station name','end station name'], axis=1)\n",
    "    df = df.dropna(axis=0, how='any', subset=[\"start station latitude\",\"start station longitude\",\"end station latitude\",\"end station longitude\"])\n",
    "    frame.append(df)\n",
    "result_2019 = pd.concat(frame)\n"
   ]
  },
  {
   "cell_type": "code",
   "execution_count": null,
   "metadata": {},
   "outputs": [],
   "source": [
    "#2020\n",
    "frame = []\n",
    "for month in months:\n",
    "    df =  pd.read_csv(\"./2020/2020\"+month+\"-citibike-tripdata.csv\", delimiter=',')\n",
    "    df = df[['tripduration','starttime','start station name','end station name','usertype',\"start station latitude\",\"start station longitude\",\"end station latitude\",\"end station longitude\"]]\n",
    "    df = df[(df['start station name'].isin(station_2020))&(df['end station name'].isin(station_2020))]\n",
    "    #df = df.drop_duplicates(subset=[\"start station latitude\",\"start station longitude\",\"end station latitude\",\"end station longitude\"])\n",
    "    df = df.drop(labels=['start station name','end station name'], axis=1)\n",
    "    df = df.dropna(axis=0, how='any', subset=[\"start station latitude\",\"start station longitude\",\"end station latitude\",\"end station longitude\"])\n",
    "    frame.append(df)\n",
    "result_2020 = pd.concat(frame)\n"
   ]
  },
  {
   "cell_type": "code",
   "execution_count": null,
   "metadata": {},
   "outputs": [],
   "source": [
    "#2021\n",
    "frame = []\n",
    "\n",
    "df =  pd.read_csv(\"./2021/202101-citibike-tripdata.csv\", delimiter=',')\n",
    "df = df[['tripduration','starttime','start station name','end station name','usertype',\"start station latitude\",\"start station longitude\",\"end station latitude\",\"end station longitude\"]]\n",
    "df = df[(df['start station name'].isin(station_2021))&(df['end station name'].isin(station_2021))]\n",
    "#df = df.drop_duplicates(subset=[\"start station latitude\",\"start station longitude\",\"end station latitude\",\"end station longitude\"])\n",
    "df = df.drop(labels=['start station name','end station name'], axis=1)\n",
    "df = df.dropna(axis=0, how='any', subset=[\"start station latitude\",\"start station longitude\",\"end station latitude\",\"end station longitude\"])\n",
    "frame.append(df)\n",
    "\n",
    "months = ['02','03','04','05','06','07','08','09','10','11','12']\n",
    "\n",
    "for month in months:\n",
    "    df =  pd.read_csv(\"./2021/2021\"+month+\"-citibike-tripdata.csv\", delimiter=',')\n",
    "    df = df[['started_at','ended_at','start_station_name','end_station_name','member_casual']]\n",
    "    df['started_at'] = pd.to_datetime(df['started_at'], format = '%Y-%m-%d')\n",
    "    df['ended_at'] = pd.to_datetime(df['ended_at'], format = '%Y-%m-%d')\n",
    "    df['tripduration'] = (df['ended_at']-df['started_at']).dt.total_seconds()   # .astype(int) # 化为整数？\n",
    "    df = df.drop(labels=['ended_at'],axis=1)\n",
    "    df['member_casual'].loc[df['member_casual'] == 'member'] = 'Subscriber'\n",
    "    df['member_casual'].loc[df['member_casual'] == 'casual'] = 'Customer'\n",
    "    df.rename(columns={\"member_casual\":\"usertype\", 'started_at':'starttime','start_station_name':'start station name','end_station_name':'end station name'},inplace=True )\n",
    "    df = df[(df['start station name'].isin(station_2021))&(df['end station name'].isin(station_2021))]\n",
    "    #df = df.drop_duplicates(subset=[\"start station latitude\",\"start station longitude\",\"end station latitude\",\"end station longitude\"])\n",
    "    df = df.drop(labels=['start station name','end station name'], axis=1)\n",
    "    df = df.dropna(axis=0, how='any', subset=[\"start station latitude\",\"start station longitude\",\"end station latitude\",\"end station longitude\"])\n",
    "    frame.append(df)\n",
    "result_2021 = pd.concat(frame)"
   ]
  },
  {
   "cell_type": "markdown",
   "metadata": {},
   "source": [
    "## Calculate Euclidean Distance"
   ]
  },
  {
   "cell_type": "code",
   "execution_count": null,
   "metadata": {},
   "outputs": [],
   "source": [
    "pip install geopy"
   ]
  },
  {
   "cell_type": "code",
   "execution_count": null,
   "metadata": {},
   "outputs": [],
   "source": [
    "from geopy.distance import great_circle\n",
    "def get_straight(pickup_lon, pickup_lat, dropoff_lon, dropoff_lat):\n",
    "    start_point = (pickup_lon,pickup_lat)\n",
    "    end_ponit = (dropoff_lon,dropoff_lat)\n",
    "    straight = great_circle(start_point, end_ponit).meters\n",
    "\n",
    "    return straight"
   ]
  },
  {
   "cell_type": "code",
   "execution_count": null,
   "metadata": {},
   "outputs": [],
   "source": [
    "straight = []\n",
    "for index,row in result_2019.iterrows():\n",
    "    straight.append(get_straight(row['start station longitude'], row['start station latitude'], row['end station longitude'], row['end station latitude']))\n",
    "result_2019['straight'] = straight\n",
    "result_2019_ = result_2019.drop(labels=[\"start station latitude\",\"start station longitude\",\"end station latitude\",\"end station longitude\"], axis=1)\n",
    "result_2019_.to_csv('E:/SI/data/Station/2019available_station-tripdata.csv',index=False)"
   ]
  },
  {
   "cell_type": "code",
   "execution_count": null,
   "metadata": {},
   "outputs": [],
   "source": [
    "straight = []\n",
    "for index,row in result_2020.iterrows():\n",
    "    straight.append(get_straight(row['start station longitude'], row['start station latitude'], row['end station longitude'], row['end station latitude']))\n",
    "result_2020['straight'] = straight\n",
    "result_2020_ = result_2020.drop(labels=[\"start station latitude\",\"start station longitude\",\"end station latitude\",\"end station longitude\"], axis=1)\n",
    "result_2020_.to_csv('E:/SI/data/Station/2020available_station-tripdata.csv',index=False)"
   ]
  },
  {
   "cell_type": "code",
   "execution_count": null,
   "metadata": {},
   "outputs": [],
   "source": [
    "straight = []\n",
    "for index,row in result_2021.iterrows():\n",
    "    straight.append(get_straight(row['start station longitude'], row['start station latitude'], row['end station longitude'], row['end station latitude']))\n",
    "result_2021['straight'] = straight\n",
    "result_2021_ = result_2021.drop(labels=[\"start station latitude\",\"start station longitude\",\"end station latitude\",\"end station longitude\"], axis=1)\n",
    "result_2021_.to_csv('E:/SI/data/Station/2021available_station-tripdata.csv',index=False)"
   ]
  },
  {
   "cell_type": "code",
   "execution_count": null,
   "metadata": {},
   "outputs": [],
   "source": [
    "result_2019_duplicates = result_2019.drop_duplicates(subset=['straight'])\n",
    "result_2019_duplicates = result_2019_duplicates.drop(labels=['tripduration','starttime','usertype'])\n",
    "result_2020_duplicates = result_2020.drop_duplicates(subset=['straight'])\n",
    "result_2020_duplicates = result_2020_duplicates.drop(labels=['tripduration','starttime','usertype'])\n",
    "result_2021_duplicates = result_2021.drop_duplicates(subset=['straight'])\n",
    "result_2021_duplicates = result_2021_duplicates.drop(labels=['tripduration','starttime','usertype'])"
   ]
  },
  {
   "cell_type": "markdown",
   "metadata": {},
   "source": [
    "## Calculate Shortest Distance"
   ]
  },
  {
   "cell_type": "code",
   "execution_count": null,
   "metadata": {},
   "outputs": [],
   "source": [
    "import requests\n",
    "import folium\n",
    "import polyline"
   ]
  },
  {
   "cell_type": "code",
   "execution_count": null,
   "metadata": {},
   "outputs": [],
   "source": [
    "pip install folium"
   ]
  },
  {
   "cell_type": "code",
   "execution_count": null,
   "metadata": {},
   "outputs": [],
   "source": [
    "pip install polyline"
   ]
  },
  {
   "cell_type": "code",
   "execution_count": null,
   "metadata": {},
   "outputs": [],
   "source": [
    "session = requests.Session()\n",
    "def get_distance(pickup_lon, pickup_lat, dropoff_lon, dropoff_lat):\n",
    "\n",
    "    loc = \"{},{};{},{}\".format(pickup_lon, pickup_lat, dropoff_lon, dropoff_lat)\n",
    "    url = \"http://router.project-osrm.org/route/v1/driving/\"\n",
    "    r = session.get(url + loc) \n",
    "    if r.status_code!= 200:\n",
    "        return 0\n",
    "  \n",
    "    res = r.json() \n",
    "    distance = res['routes'][0]['distance']\n",
    "\n",
    "    return distance"
   ]
  },
  {
   "cell_type": "code",
   "execution_count": null,
   "metadata": {},
   "outputs": [],
   "source": [
    "distance = []\n",
    "for index,row in result_2019_duplicates.iterrows():\n",
    "    distance.append(get_distance(row['start station longitude'], row['start station latitude'], row['end station longitude'], row['end station latitude']))\n",
    "result_2019_duplicates['distance'] = distance\n"
   ]
  },
  {
   "cell_type": "code",
   "execution_count": null,
   "metadata": {},
   "outputs": [],
   "source": [
    "distance = []\n",
    "for index,row in result_2020_duplicates.iterrows():\n",
    "    distance.append(get_distance(row['start station longitude'], row['start station latitude'], row['end station longitude'], row['end station latitude']))\n",
    "result_2020_duplicates['distance'] = distance"
   ]
  },
  {
   "cell_type": "code",
   "execution_count": null,
   "metadata": {},
   "outputs": [],
   "source": [
    "distance = []\n",
    "for index,row in result_2021_duplicates.iterrows():\n",
    "    distance.append(get_distance(row['start station longitude'], row['start station latitude'], row['end station longitude'], row['end station latitude']))\n",
    "result_2021_duplicates['distance'] = distance"
   ]
  },
  {
   "cell_type": "code",
   "execution_count": null,
   "metadata": {},
   "outputs": [],
   "source": [
    "result_2019_duplicates.to_csv('E:/SI/data/2019available_station-tripdata_distance.csv', index=False)\n",
    "result_2020_duplicates.to_csv('E:/SI/data/2020available_station-tripdata_distance.csv', index=False)\n",
    "result_2021_duplicates.to_csv('E:/SI/data/2021available_station-tripdata_distance.csv', index=False)"
   ]
  }
 ],
 "metadata": {
  "kernelspec": {
   "display_name": "Python 3 (ipykernel)",
   "language": "python",
   "name": "python3"
  },
  "language_info": {
   "codemirror_mode": {
    "name": "ipython",
    "version": 3
   },
   "file_extension": ".py",
   "mimetype": "text/x-python",
   "name": "python",
   "nbconvert_exporter": "python",
   "pygments_lexer": "ipython3",
   "version": "3.9.12"
  },
  "vscode": {
   "interpreter": {
    "hash": "1f8645615ca255391bc7c597522d10c3d0762d9d6284749d0f5bb8ba6bc60ba5"
   }
  }
 },
 "nbformat": 4,
 "nbformat_minor": 2
}
